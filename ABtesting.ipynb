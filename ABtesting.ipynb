{
 "cells": [
  {
   "cell_type": "markdown",
   "id": "b4b01ea1-e51a-4959-9429-3e3b09341f41",
   "metadata": {},
   "source": [
    "# A/B Testing\n",
    "## by Sindi Ingraham"
   ]
  },
  {
   "cell_type": "markdown",
   "id": "c087cdba-ebb3-42cb-9ecd-a6b5254d6adf",
   "metadata": {},
   "source": [
    "### Project Background\n",
    "\n",
    "Globox is an online marketplace that specializes in sourcing unique and high-quality products from around the world. Their logo **\" We believe that shopping should be an adventure, and we want to bring the world to your doorstep. From exotic spices and rare teas to handmade jewelry and textiles, we have a curated selection of products that you won't find anywhere else\"**.\n",
    "\n",
    "GloBox is primarily known amongst its customer base for boutique fashion items and high-end decor products. However, their food and drink offerings have grown tremendously in the last few months, and the company wants to bring awareness to this product category to increase revenue.\n",
    "\n",
    "The Growth team decides to run an A/B test that highlights key products in the food and drink category as a banner at the top of the website. The control group does not see the banner, and the test group sees it.\n"
   ]
  },
  {
   "cell_type": "markdown",
   "id": "65de0f4e-4167-4ff1-ae2e-076c98dffc62",
   "metadata": {},
   "source": [
    "### The setup of the A/B test is as follows:\n",
    "\n",
    "- The experiment is only being run on the mobile website.\n",
    "- A user visits the GloBox main page and is randomly assigned to either the control or test group. This is the join date for the user.\n",
    "- The page loads the banner if the user is assigned to the test group, and does not load the banner if the user is assigned to the control group.\n",
    "- The user subsequently may or may not purchase products from the website. It could be on the same day they join the experiment, or days later. If they do make one or more purchases, this is considered a “conversion”."
   ]
  },
  {
   "cell_type": "markdown",
   "id": "af51aaf4-7b9e-4e04-a1a1-c09a7fadbdcc",
   "metadata": {},
   "source": [
    "### Task\n",
    "\n",
    "Analyze the results of the A/B test and provide a recommendation to the stakeholders about whether Globox should launch the experience to all users."
   ]
  },
  {
   "cell_type": "markdown",
   "id": "b435d766-9efb-461b-912a-58607d67d495",
   "metadata": {},
   "source": [
    "### Stakeholders\n",
    "\n",
    "- Growth Product & Engineering Team: This is the team that you work with at GloBox. The team is made up of a product manager, a user experience designer, an engineering manager and several software engineers, and you, the data analyst. The team develops features for the GloBox website that drive growth in users and revenue.\n",
    "- Leila Al-Farsi, Product Manager, Growth: Leila is the product manager for the Growth product and engineering team. Alongside Alejandro, she leads the Growth team by deciding their goals and projects, measuring their success against defined KPIs, and communicating results to other company leaders like Mei.\n",
    "- Alejandro Gonzalez, User Experience Designer, Growth: Alejandro is the designer for the Growth product and engineering team. He conducts user research and designed the experience that the A/B test is evaluating.\n",
    "- Mei Kim, Head of Marketing: Mei oversees the Marketing team, which works on targeting audiences with effective marketing campaigns to drive customers to the GloBox website. She collaborates frequently with Leila and Alejandro to design website experiences that will align well with the current marketing efforts.\n",
    "\n",
    "Together, Leila, Alejandro, and Mei will decide whether or not to launch the experiment based on the results."
   ]
  },
  {
   "cell_type": "markdown",
   "id": "2e23c516-746b-4be4-b03c-51560c1588d2",
   "metadata": {},
   "source": [
    "### The Dataset\n",
    "\n",
    "GloBox stores its data in a relational database, which I extracted using SQL queries. \n",
    "\n",
    "To consider:\n",
    "\n",
    "- All users should be assigned to one A/B test group\n",
    "- Not all users make a purchase.\n",
    "\n",
    "![data description](data_image.png)"
   ]
  },
  {
   "cell_type": "markdown",
   "id": "0c1c1545-4ea6-43af-940d-b478f70a5f3f",
   "metadata": {},
   "source": [
    "# Metric\n",
    "\n",
    "- Revenue\n",
    "- Conversion Rate = #converted / #converted + # notconverted\n",
    "\n"
   ]
  },
  {
   "cell_type": "markdown",
   "id": "c32897dd-a16b-4595-b3d7-08d82967700b",
   "metadata": {},
   "source": [
    "## Statistical Hypothesis\n",
    "\n",
    "- Ho : CRcon = CRexp\n",
    "- Ha : CRcon &ne; CRexp\n",
    "\n",
    "- Ho : &mu;con = &mu;exp\n",
    "- Ha: &mu;con &ne; &mu;exp"
   ]
  },
  {
   "cell_type": "markdown",
   "id": "7119fb5b-a544-4674-a623-40e5a0c2f8b7",
   "metadata": {},
   "source": [
    "## Power Analysis\n",
    "\n",
    "In this instance, power analysis was already conducted and the test data was readily available and extracted from the database. Nonetheless, I have established the confidence level and the significance level for the study.\n",
    "\n",
    "- **Confidence Level**: 95%\n",
    "- **Significance Level**: 5% or 0.05"
   ]
  },
  {
   "cell_type": "markdown",
   "id": "7ef38e8c-53b5-400e-8fdd-028d8402feaa",
   "metadata": {},
   "source": [
    "## Minimum Detectable Effect\n",
    "\n",
    "The targeted objective is to discern the magnitude of change between the new and old versions, as a basis for deciding whether to launch the new feature. Although the stakeholders did not provide a specific percentage, we have set a benchmark of a 2% change in conversion rate and revenue for this analysis, which will be assessed based on the average amount spent per user."
   ]
  },
  {
   "cell_type": "markdown",
   "id": "e5221fc5-6bab-4d3e-a58f-dfa947e0b613",
   "metadata": {},
   "source": [
    "# Analyzing A/B test results"
   ]
  },
  {
   "cell_type": "code",
   "execution_count": 108,
   "id": "d8a48687-5fd0-4b18-b82b-577ef6f83adb",
   "metadata": {
    "tags": []
   },
   "outputs": [],
   "source": [
    "# Importing the necessary packages\n",
    "\n",
    "import pandas as pd\n",
    "import numpy as np\n",
    "import matplotlib.pyplot as plt\n",
    "import seaborn as sb\n",
    "from scipy.stats import ttest_ind\n",
    "import scipy.stats as stats\n",
    "from math import ceil\n"
   ]
  },
  {
   "cell_type": "code",
   "execution_count": 109,
   "id": "eef27268-0ca9-4f2d-943d-c6905e6041e1",
   "metadata": {
    "tags": []
   },
   "outputs": [
    {
     "data": {
      "text/html": [
       "<div>\n",
       "<style scoped>\n",
       "    .dataframe tbody tr th:only-of-type {\n",
       "        vertical-align: middle;\n",
       "    }\n",
       "\n",
       "    .dataframe tbody tr th {\n",
       "        vertical-align: top;\n",
       "    }\n",
       "\n",
       "    .dataframe thead th {\n",
       "        text-align: right;\n",
       "    }\n",
       "</style>\n",
       "<table border=\"1\" class=\"dataframe\">\n",
       "  <thead>\n",
       "    <tr style=\"text-align: right;\">\n",
       "      <th></th>\n",
       "      <th>uid</th>\n",
       "      <th>group</th>\n",
       "      <th>join_date</th>\n",
       "      <th>date_of_purchase</th>\n",
       "      <th>amount_spent</th>\n",
       "    </tr>\n",
       "  </thead>\n",
       "  <tbody>\n",
       "    <tr>\n",
       "      <th>0</th>\n",
       "      <td>1000000</td>\n",
       "      <td>B</td>\n",
       "      <td>2023-01-28</td>\n",
       "      <td>NaN</td>\n",
       "      <td>0.0</td>\n",
       "    </tr>\n",
       "    <tr>\n",
       "      <th>1</th>\n",
       "      <td>1000001</td>\n",
       "      <td>A</td>\n",
       "      <td>2023-01-27</td>\n",
       "      <td>NaN</td>\n",
       "      <td>0.0</td>\n",
       "    </tr>\n",
       "    <tr>\n",
       "      <th>2</th>\n",
       "      <td>1000002</td>\n",
       "      <td>A</td>\n",
       "      <td>2023-02-01</td>\n",
       "      <td>NaN</td>\n",
       "      <td>0.0</td>\n",
       "    </tr>\n",
       "    <tr>\n",
       "      <th>3</th>\n",
       "      <td>1000003</td>\n",
       "      <td>B</td>\n",
       "      <td>2023-01-25</td>\n",
       "      <td>NaN</td>\n",
       "      <td>0.0</td>\n",
       "    </tr>\n",
       "    <tr>\n",
       "      <th>4</th>\n",
       "      <td>1000004</td>\n",
       "      <td>A</td>\n",
       "      <td>2023-02-04</td>\n",
       "      <td>NaN</td>\n",
       "      <td>0.0</td>\n",
       "    </tr>\n",
       "  </tbody>\n",
       "</table>\n",
       "</div>"
      ],
      "text/plain": [
       "       uid group   join_date date_of_purchase  amount_spent\n",
       "0  1000000     B  2023-01-28              NaN           0.0\n",
       "1  1000001     A  2023-01-27              NaN           0.0\n",
       "2  1000002     A  2023-02-01              NaN           0.0\n",
       "3  1000003     B  2023-01-25              NaN           0.0\n",
       "4  1000004     A  2023-02-04              NaN           0.0"
      ]
     },
     "execution_count": 109,
     "metadata": {},
     "output_type": "execute_result"
    }
   ],
   "source": [
    "# Reading the data extrated from the database into pandas dataframe\n",
    "ab = pd.read_csv('testingdata.csv')\n",
    "ab.head()"
   ]
  },
  {
   "cell_type": "code",
   "execution_count": 110,
   "id": "9c1f7b9d-5bb5-4bc6-aa24-f20f663ed105",
   "metadata": {},
   "outputs": [
    {
     "name": "stdout",
     "output_type": "stream",
     "text": [
      "<class 'pandas.core.frame.DataFrame'>\n",
      "RangeIndex: 49082 entries, 0 to 49081\n",
      "Data columns (total 5 columns):\n",
      " #   Column            Non-Null Count  Dtype  \n",
      "---  ------            --------------  -----  \n",
      " 0   uid               49082 non-null  int64  \n",
      " 1   group             49082 non-null  object \n",
      " 2   join_date         49082 non-null  object \n",
      " 3   date_of_purchase  2233 non-null   object \n",
      " 4   amount_spent      49082 non-null  float64\n",
      "dtypes: float64(1), int64(1), object(3)\n",
      "memory usage: 1.9+ MB\n"
     ]
    }
   ],
   "source": [
    "#Cheking the dataset\n",
    "ab.info()   "
   ]
  },
  {
   "cell_type": "code",
   "execution_count": 111,
   "id": "f8ef063a-cad5-4b90-80bb-1e2b6d77273c",
   "metadata": {},
   "outputs": [
    {
     "name": "stdout",
     "output_type": "stream",
     "text": [
      "There are 139 users that appear multiple times in the dataset\n"
     ]
    }
   ],
   "source": [
    "# Searching for duplicates\n",
    "\n",
    "clean_dat = ab.copy()\n",
    "data_count = clean_dat['uid'].value_counts(ascending = False)\n",
    "duplicate = data_count[data_count > 1].count()\n",
    "print(f'There are {duplicate} users that appear multiple times in the dataset')\n"
   ]
  },
  {
   "cell_type": "markdown",
   "id": "d3a68758-04ae-4422-a9c8-58342594e5a1",
   "metadata": {},
   "source": [
    "After identifying 139 duplicates in the dataset, it was determined that the impact of their removal would not significantly affect the results. Therefore, I proceed with deleting the duplicates from the dataset."
   ]
  },
  {
   "cell_type": "code",
   "execution_count": 112,
   "id": "d1f0c130-f397-4d37-967e-3249021d40ad",
   "metadata": {},
   "outputs": [
    {
     "name": "stdout",
     "output_type": "stream",
     "text": [
      "<class 'pandas.core.frame.DataFrame'>\n",
      "Int64Index: 48943 entries, 0 to 49081\n",
      "Data columns (total 5 columns):\n",
      " #   Column            Non-Null Count  Dtype  \n",
      "---  ------            --------------  -----  \n",
      " 0   uid               48943 non-null  int64  \n",
      " 1   group             48943 non-null  object \n",
      " 2   join_date         48943 non-null  object \n",
      " 3   date_of_purchase  2094 non-null   object \n",
      " 4   amount_spent      48943 non-null  float64\n",
      "dtypes: float64(1), int64(1), object(3)\n",
      "memory usage: 2.2+ MB\n",
      "None\n"
     ]
    }
   ],
   "source": [
    "# Deleteing duplicates\n",
    "\n",
    "clean_ab = df = clean_dat.drop(clean_dat[clean_dat.duplicated(subset='uid')].index)\n",
    "print(clean_ab.info())"
   ]
  },
  {
   "cell_type": "markdown",
   "id": "f2f09ee5-851c-4c19-b79c-edf9cff3ae3e",
   "metadata": {},
   "source": [
    "## Convertion Rate\n",
    "\n",
    "In order to gain insight from the same, I'll run some basic statistics and know what the sample looks like.\n"
   ]
  },
  {
   "cell_type": "code",
   "execution_count": 113,
   "id": "7d8cd4b5-ef4d-47ec-980b-a0836f2fc2e9",
   "metadata": {},
   "outputs": [
    {
     "name": "stdout",
     "output_type": "stream",
     "text": [
      "group\n",
      "A    0.039231\n",
      "B    0.046301\n",
      "Name: amount_spent, dtype: float64\n",
      "group\n",
      "A    24.758693\n",
      "B    24.222659\n",
      "Name: amount_spent, dtype: float64\n",
      "group\n",
      "A    0.158687\n",
      "B    0.154438\n",
      "Name: amount_spent, dtype: float64\n"
     ]
    }
   ],
   "source": [
    "# Calculating convertion rate.\n",
    "conversion_rates = clean_ab.groupby('group')['amount_spent'].apply(lambda x: (x > 0).mean())\n",
    "print(conversion_rates)\n",
    "\n",
    "# Calculating standard deviation.\n",
    "std_deviation = clean_ab.groupby('group')['amount_spent'].std()\n",
    "print(std_deviation)\n",
    "\n",
    "# Calculating standard of error.\n",
    "std_error = clean_ab.groupby('group')['amount_spent'].sem()\n",
    "print(std_error)\n"
   ]
  },
  {
   "cell_type": "code",
   "execution_count": 114,
   "id": "05d98c59-440f-44cc-84aa-7cf863958e29",
   "metadata": {},
   "outputs": [
    {
     "data": {
      "image/png": "[encoded data removed]",
      "text/plain": [
       "<Figure size 576x432 with 1 Axes>"
      ]
     },
     "metadata": {
      "needs_background": "light"
     },
     "output_type": "display_data"
    }
   ],
   "source": [
    "plt.figure(figsize=(8,6))\n",
    "conversion_rates.plot(kind='bar')\n",
    "plt.title('Convertion Rate')\n",
    "plt.xlabel('Group')\n",
    "plt.ylabel('Convertion Rate')\n",
    "plt.savefig(\"convertionrate.png\")\n",
    "plt.show()"
   ]
  },
  {
   "cell_type": "markdown",
   "id": "b2e0b826-679f-40ca-922d-371b0ab44026",
   "metadata": {},
   "source": [
    "We can observe from the stats above that the treatment group perform slightly better with approximately 4.63% conversion rate that the control group with 3.92%. However, We have to identify if this results or difference is statistical significant."
   ]
  },
  {
   "cell_type": "markdown",
   "id": "3f14cbb1-7b24-4866-8305-8eee111668cd",
   "metadata": {},
   "source": [
    "- In order to test for a statistically significant difference between the control and treatment groups, I will utilize a two-sided Z-test for comparing proportions."
   ]
  },
  {
   "cell_type": "markdown",
   "id": "e0af2338-0372-49ac-ba09-d6733c4680ba",
   "metadata": {},
   "source": [
    "## Hypothesis\n",
    "\n",
    "- Ho : CRcon = CRexp\n",
    "- Ha : CRcon &ne; CRexp\n",
    "\n",
    "- Ho: CRcon - CRexp = 0\n",
    "- Ha : CRcon - CRexp &ne; 0\n",
    "\n"
   ]
  },
  {
   "cell_type": "code",
   "execution_count": 115,
   "id": "ac110874-b1bd-4f15-aff4-a72bcab201fa",
   "metadata": {},
   "outputs": [
    {
     "name": "stdout",
     "output_type": "stream",
     "text": [
      "group\n",
      "A     955\n",
      "B    1139\n",
      "Name: uid, dtype: int64\n"
     ]
    },
    {
     "data": {
      "text/plain": [
       "group\n",
       "A    24343\n",
       "B    24600\n",
       "Name: uid, dtype: int64"
      ]
     },
     "execution_count": 115,
     "metadata": {},
     "output_type": "execute_result"
    }
   ],
   "source": [
    "#Identifying how many users convert in each group\n",
    "\n",
    "converted = clean_ab[clean_ab['amount_spent'] > 0]\n",
    "num_converted = converted.groupby('group')['uid'].count()\n",
    "print(num_converted)\n",
    "\n",
    "# Number of sample in each group\n",
    "clean_ab.groupby('group')['uid'].count()"
   ]
  },
  {
   "cell_type": "code",
   "execution_count": 116,
   "id": "fd3aa7c9-8c50-4c67-ae7f-aa484d379cbd",
   "metadata": {},
   "outputs": [
    {
     "name": "stdout",
     "output_type": "stream",
     "text": [
      "Convertion rate control group: 0.0392\n",
      "Control group confidence Interval: (0.0368, 0.0417)\n"
     ]
    }
   ],
   "source": [
    "# Importing the neccesary modules to work with the normal distribution.\n",
    "import math\n",
    "\n",
    "# assigning each value to a variable to make the calculations easier.\n",
    "x_control = 955 # number of users that made a purchase\n",
    "N_control = 24343 # sample size for control group\n",
    "p_hat_control = x_control / N_control # This is the proportion or convertion rate for the control group\n",
    "z_score_A = 1.96\n",
    "\n",
    "#Standard error\n",
    "SE_A = math.sqrt(p_hat_control * (1- p_hat_control) / N_control)\n",
    "\n",
    "#Confidence level for control group\n",
    "\n",
    "ci_A = (p_hat_control - z_score_A * SE_A, p_hat_control + z_score_A *  SE_A)\n",
    "\n",
    "print(f\"Convertion rate control group:\", np.round(p_hat_control,4))\n",
    "print(\"Control group confidence Interval: ({:.4f}, {:.4f})\".format(ci_A[0], ci_A[1]))\n",
    "                 \n",
    "                 "
   ]
  },
  {
   "cell_type": "markdown",
   "id": "3a9a1b24-345d-427b-9bb2-8fd7a97a8f7b",
   "metadata": {},
   "source": [
    "We can observe that the true convertion rate in the control group falls between (0.0368, 0.0417). The convertion rate for the control group is 0.0392, which falls within the confident interval indicating that the sample is representative of the population.\n",
    "\n",
    "Now, let's calculate the confidence interval for the treatment group."
   ]
  },
  {
   "cell_type": "code",
   "execution_count": 117,
   "id": "c18d7098-3e84-4942-b56f-646173ac0dff",
   "metadata": {},
   "outputs": [
    {
     "name": "stdout",
     "output_type": "stream",
     "text": [
      "Convertion rate treatment group: 0.0463\n",
      "Treatment group confidence Interval: (0.0437, 0.0489)\n"
     ]
    }
   ],
   "source": [
    "x_treat = 1139 # number of users that made a purchase in the treatment group\n",
    "N_treat = 24600 # sample size fro treatment group\n",
    "p_hat_treatment = x_treat / N_treat  # This is the proportion or convertion rate for the treatment group\n",
    "z_score_B = 1.96\n",
    "\n",
    "#Standard error\n",
    "SE_B = math.sqrt(p_hat_treatment * (1- p_hat_treatment) / N_treat)\n",
    "\n",
    "#Confidence level for control group\n",
    "\n",
    "ci_B = (p_hat_treatment - z_score_B * SE_B, p_hat_treatment + z_score_B *  SE_B)\n",
    "\n",
    "print(f\"Convertion rate treatment group:\", np.round(p_hat_treatment,4))\n",
    "print(\"Treatment group confidence Interval: ({:.4f}, {:.4f})\".format(ci_B[0], ci_B[1]))\n"
   ]
  },
  {
   "cell_type": "markdown",
   "id": "08ad1bab-2f91-4767-ae7e-5113ac45714e",
   "metadata": {},
   "source": [
    "The convertion rate for the treatment group is 0.0463 which falls within the confidence interval (0.0437, 0.0489) indicating that the sample is representative of the population. However, we still have to calculate the proportion difference to stablish if there is a statistical significance between the proportions."
   ]
  },
  {
   "cell_type": "code",
   "execution_count": 118,
   "id": "7f875d10-43c2-4f51-9962-1154960dccd5",
   "metadata": {},
   "outputs": [
    {
     "name": "stdout",
     "output_type": "stream",
     "text": [
      "reject the null\n",
      "0.0001\n",
      "Test statistics stat:  3.8643\n",
      "Z-Critical score:  1.96\n",
      "P_value;  0.0001\n",
      "Confidence Interval of 2 sample for proportion:  [0.0035 0.0107]\n"
     ]
    }
   ],
   "source": [
    "# Importing the neccesary modules to work with the normal distribution.\n",
    "from scipy.stats import norm\n",
    "\n",
    "#Significance level\n",
    "alpha = 0.05\n",
    "\n",
    "# Now, I am going to calculate the proportion of the difference.\n",
    "p_pooled = (x_control + x_treat) / (N_control + N_treat)\n",
    "pooled_variance = p_pooled * (1-p_pooled) * (1/N_control + 1/N_treat) # Variance of the difference of the two groups\n",
    "\n",
    "#Standard of error\n",
    "SE = np.sqrt(pooled_variance)\n",
    "\n",
    "#Test statistists\n",
    "test_stat = (p_hat_treatment - p_hat_control)/ SE\n",
    "\n",
    "# Critical value or z-score using the normal distribution\n",
    "z_score = norm.ppf(1-alpha /2)\n",
    "\n",
    "# Calculating the margin of error\n",
    "ME = SE * z_score\n",
    "\n",
    "#Calculating p-value\n",
    "p_value = norm.sf(test_stat)*2 # We multiply here for 2 because we are using two sided test with normal distribution.\n",
    "\n",
    "# Calculating confidence intervals\n",
    "CI = [(p_hat_treatment - p_hat_control) - SE * z_score, (p_hat_treatment - p_hat_control) + SE * z_score]\n",
    "\n",
    "if np.abs(test_stat) >= z_score:\n",
    "    print(\"reject the null\")\n",
    "    print(np.round(p_value,4))\n",
    "    \n",
    "print(\"Test statistics stat: \", np.round(test_stat,4))\n",
    "print(\"Z-Critical score: \", np.round(z_score,2))\n",
    "print(\"P_value; \", np.round(p_value,4))\n",
    "print(\"Confidence Interval of 2 sample for proportion: \" , np.round(CI,4))"
   ]
  },
  {
   "cell_type": "markdown",
   "id": "df3a92ff-1d4d-4534-8b02-4e46a6f5f642",
   "metadata": {},
   "source": [
    "The test statistics (3.864) is greater than the z-critical score (1.96) and the p-value(0.0001) is less that the significance level of 0.05. This means that we have rejected the null hypothesis (that there is no difference between the proportions of the two groups) and we can conclude that there is a statistically significant difference between the two sample proportions.\n",
    "\n",
    "Additionally, the confidence interval for the difference in proportions (0.0035, 0.0107) does not include zero, which further supports the conclusion that there is a significant difference between the two groups.\n",
    "\n",
    "Now, let's visualize the convertion rate with the standard error."
   ]
  },
  {
   "cell_type": "code",
   "execution_count": 119,
   "id": "a532fa67-ebc6-4689-979d-28e5ad158d12",
   "metadata": {},
   "outputs": [
    {
     "data": {
      "image/png": "[encoded data removed]",
      "text/plain": [
       "<Figure size 432x288 with 1 Axes>"
      ]
     },
     "metadata": {
      "needs_background": "light"
     },
     "output_type": "display_data"
    }
   ],
   "source": [
    "# Plot for the convertion rate and the standard error for each group.\n",
    "\n",
    "groups = ['Control', 'Treatment']\n",
    "conversion_rates = [p_hat_control, p_hat_treatment]\n",
    "errors = [ME, ME]\n",
    "fig, ax = plt.subplots()\n",
    "y_pos = np.arange(len(groups))\n",
    "ax.barh(y_pos, conversion_rates, xerr=errors, align='center', color='blue')\n",
    "ax.set_yticks(y_pos)\n",
    "ax.set_yticklabels(groups)\n",
    "ax.invert_yaxis()\n",
    "ax.set_xlabel('Conversion Rate')\n",
    "ax.set_title('Comparison of Conversion Rates')\n",
    "plt.axvline(x=0, color='black', linestyle='--')\n",
    "plt.show()"
   ]
  },
  {
   "cell_type": "code",
   "execution_count": 120,
   "id": "325e3cb4-343d-4ccc-8089-71e8b88936da",
   "metadata": {},
   "outputs": [
    {
     "data": {
      "image/png": "[encoded data removed]",
      "text/plain": [
       "<Figure size 432x288 with 1 Axes>"
      ]
     },
     "metadata": {
      "needs_background": "light"
     },
     "output_type": "display_data"
    }
   ],
   "source": [
    "# visualizing the rejection region\n",
    "\n",
    "z = np.arange(-3, 3, 0.01)\n",
    "plt.plot(z, norm.pdf(z), label='Standard Normal Distribution', color='blue', linewidth=2.5)\n",
    "plt.fill_between(z[z > z_score], norm.pdf(z[z > z_score]), label='Right Rejection Region', color='yellow')\n",
    "plt.fill_between(z[z < -z_score], norm.pdf(z[z < -z_score]), label='Left Rejection Region', color='orange')\n",
    "plt.axvline(x=z_score, color='red', linestyle='--', label='Critical Value')\n",
    "plt.axvline(x=-z_score, color='red', linestyle='--')\n",
    "plt.title(\"Two Sample Z-test Rejection Region\")\n",
    "plt.xlabel('Z-score')\n",
    "plt.ylabel('Density')\n",
    "plt.legend()\n",
    "plt.show()"
   ]
  },
  {
   "cell_type": "markdown",
   "id": "8c01e866-c810-4c62-b942-c50b3d898651",
   "metadata": {},
   "source": [
    "The above plot shows rejection region with a standard normal distribution where the rejection region is shaded in yelow and orange,and is separated from the acceptance region  by the critical value. This plot also shows PDF of the standard normal distribution, which represents the distribution of the test statistic under the null hypothesis.\n",
    "\n",
    "After analyzing the conversion rate results and rejecting the null hypothesis, we will now proceed to examine the revenue or the average amount spent per user to determine the statistical significance of launching the new feature as part of our A/B testing objectives."
   ]
  },
  {
   "cell_type": "markdown",
   "id": "3cb65f16-4d39-44cd-a701-53309f4251af",
   "metadata": {},
   "source": [
    "## Revenue "
   ]
  },
  {
   "cell_type": "code",
   "execution_count": 125,
   "id": "4b9eb740-9c92-48bd-ae96-d7157d3ac7fb",
   "metadata": {},
   "outputs": [
    {
     "name": "stdout",
     "output_type": "stream",
     "text": [
      "group\n",
      "A    3.374518\n",
      "B    3.390867\n",
      "Name: amount_spent, dtype: float64\n"
     ]
    },
    {
     "data": {
      "image/png": "[encoded data removed]",
      "text/plain": [
       "<Figure size 576x432 with 1 Axes>"
      ]
     },
     "metadata": {
      "needs_background": "light"
     },
     "output_type": "display_data"
    }
   ],
   "source": [
    "# calculating the average amount spent per user in eahc group. In this calculation I used the origal data since it is an average.\n",
    "# In the proportion since we want to analyze which users actually converte, it was necessary to delete the duplicates.\n",
    "amount_spent_user = ab.groupby(['group','uid'])['amount_spent'].sum().groupby('group').mean()\n",
    "print(amount_spent_user)\n",
    "\n",
    "plt.figure(figsize=(8,6))\n",
    "amount_spent_user.plot(kind='bar')\n",
    "plt.title('Average amount spent per user')\n",
    "plt.xlabel('Group')\n",
    "plt.ylabel('Average')\n",
    "plt.savefig(\"average amount spent per user.png\")\n",
    "plt.show()"
   ]
  },
  {
   "cell_type": "markdown",
   "id": "f2968b2c-a9df-46a4-8fb8-685d512aea78",
   "metadata": {},
   "source": [
    "We can observe that the average amount spent per user in group b is slightly higher than group A with 3.391 and 3.375 respectivately. However, we cannot make any conslusions about whether this difference is statistically significant or not yet. So the next step is conduct a hypothesis test and calculate the confidence interval.\n"
   ]
  },
  {
   "cell_type": "markdown",
   "id": "722b92c4-6738-45c8-ad75-2981bbd4baa3",
   "metadata": {},
   "source": [
    "### Hypothesis\n",
    "\n",
    "- Ho : &mu;con = &mu;exp\n",
    "- Ha : &mu;con &ne; &mu;exp\n",
    "\n",
    "- Ho: &mu;con - &mu;exp = 0\n",
    "- Ha : &mu;con - &mu;exp &ne; 0"
   ]
  },
  {
   "cell_type": "markdown",
   "id": "5cfe84f9-8237-4360-bb81-b7cb7206b159",
   "metadata": {},
   "source": [
    "Let's calculate the confidence intervals for group A or control group."
   ]
  },
  {
   "cell_type": "code",
   "execution_count": 122,
   "id": "46d0b980-7431-428c-a2fa-8ed4f74fa4a2",
   "metadata": {},
   "outputs": [
    {
     "name": "stdout",
     "output_type": "stream",
     "text": [
      "Sample mean; 3.37\n",
      "Sample standard deviation : 25.37\n",
      "Standard of error: 0.16\n",
      "t-critical value: 1.96\n",
      "Margin of error: 0.32\n",
      "95% Confidence Interval: [3.048 3.685]\n"
     ]
    }
   ],
   "source": [
    "# Importing the t stat since we are going to use t distribution for mean\n",
    "from scipy.stats import t\n",
    "\n",
    "#Subsetting the data to incluide only the control group\n",
    "control = ab[ab['group']=='A']\n",
    "\n",
    "#Calculating some statistics over control group\n",
    "\n",
    "NC= control.shape[0]\n",
    "sample_mean = control['amount_spent'].mean()\n",
    "sample_std = control['amount_spent'].std()\n",
    "\n",
    "#Calculating the standard error of the mean\n",
    "SOE = sample_std / np.sqrt(NC)\n",
    "\n",
    "#Claculating the t-critical value, in this case 95% confidence level\n",
    "t_critical = t.ppf(0.975, NC-1)\n",
    "\n",
    "#Margin of error\n",
    "MOE = t_critical * SOE\n",
    "\n",
    "#Confidence interval\n",
    "\n",
    "CIC = (sample_mean - MOE, sample_mean + MOE)\n",
    "print(f\"Sample mean; {sample_mean:.2f}\")\n",
    "print(f\"Sample standard deviation : {sample_std:.2f}\")\n",
    "print(f\"Standard of error: {SOE:.2f}\")\n",
    "print(f\"t-critical value: {t_critical:.2f}\")\n",
    "print(f\"Margin of error: {MOE:.2f}\")\n",
    "print(f\"95% Confidence Interval: {np.round(CIC, 3)}\")\n",
    "      "
   ]
  },
  {
   "cell_type": "markdown",
   "id": "52213856-2036-4289-9652-422cefa1e5a7",
   "metadata": {},
   "source": [
    "We can observe that the sample mean for group A or control group is 3.37, which is slightly lower than the sample mean for group B. With a confidence interval of [3.048 3.685] we can be reasonably confidence that the true population mean falls within this range. However, we need to calculate the confidence interval for group b to compare the two groups and draw any conclusion. We are going to do that next.\n",
    "\n",
    "Note: Note that our sample mean does not fall within our confidence interval, which ww have to consider when drawing conclusions."
   ]
  },
  {
   "cell_type": "code",
   "execution_count": 123,
   "id": "041e49ba-76c5-4d5f-903a-51e4a3bf8f85",
   "metadata": {},
   "outputs": [
    {
     "name": "stdout",
     "output_type": "stream",
     "text": [
      "Sample mean: 3.380\n",
      "Sample standard deviation : 24.79\n",
      "Standard of error: 0.16\n",
      "t-critical value: 1.96\n",
      "Margin of error: 0.31\n",
      "95% Confidence Interval: [3.071 3.689]\n"
     ]
    }
   ],
   "source": [
    "#Subsetting the data to incluide only the control group\n",
    "treatment = ab[ab['group']=='B']\n",
    "\n",
    "#Calculating some statistics over control group\n",
    "\n",
    "NT= treatment.shape[0]\n",
    "sample_mean_t = treatment['amount_spent'].mean()\n",
    "sample_std_t = treatment['amount_spent'].std()\n",
    "\n",
    "#Calculating the standard error of the mean\n",
    "SET = sample_std_t / np.sqrt(NT)\n",
    "\n",
    "#Claculating the t-critical value, in this case 95% confidence level\n",
    "t_critical_t = t.ppf(0.975, NT-1)\n",
    "\n",
    "#Margin of error\n",
    "MET = t_critical * SET\n",
    "\n",
    "#Confidence interval\n",
    "\n",
    "CIT = (sample_mean_t - MET, sample_mean_t + MET)\n",
    "\n",
    "print(f\"Sample mean: {sample_mean_t:.3f}\")\n",
    "print(f\"Sample standard deviation : {sample_std_t:.2f}\")\n",
    "print(f\"Standard of error: {SET:.2f}\")\n",
    "print(f\"t-critical value: {t_critical_t:.2f}\")\n",
    "print(f\"Margin of error: {MET:.2f}\")\n",
    "print(f\"95% Confidence Interval: {np.round(CIT, 3)}\")"
   ]
  },
  {
   "cell_type": "markdown",
   "id": "18857398-ada5-48cc-a505-f41a9d99bd6e",
   "metadata": {},
   "source": [
    "Here we can say with 95% confidence that the true population mean of the average amount spent per user falls within the interval of [3.071 3.689]. Notice that our sample mean falls within this range in the treatmen group. However, we are going to calculate the confidence interval and p-value of the difference of the mean to determinate whether there is a statistical significance."
   ]
  },
  {
   "cell_type": "code",
   "execution_count": 124,
   "id": "60b0998d-801f-475e-a5c4-3abd8edc7f73",
   "metadata": {},
   "outputs": [
    {
     "name": "stdout",
     "output_type": "stream",
     "text": [
      "Difference in mean: 0.014\n",
      "95% Confidence Interval: (-0.43, 0.457)\n",
      "p-value:   0.952\n"
     ]
    }
   ],
   "source": [
    "# Calculating the confidence interval for the difference of mean using unequal variance and t-distribution\n",
    "\n",
    "diff = sample_mean_t - sample_mean\n",
    "\n",
    "#standard error of the difference\n",
    "se_diff = np.sqrt((sample_std**2/len(control)) + (sample_std_t**2/len(treatment)))\n",
    "\n",
    "#t-statistics and p-value\n",
    "t_stat, p_value = ttest_ind(treatment['amount_spent'], control['amount_spent'], equal_var =False)\n",
    "\n",
    "#Confidence interal for the difference\n",
    "ci_low,ci_high = diff - 1.96 * se_diff,diff + 1.96 * se_diff\n",
    "\n",
    "print(f\"Difference in mean: {diff:.3f}\")\n",
    "print(F\"95% Confidence Interval: {np.round(ci_low,3), np.round(ci_high, 3)}\")\n",
    "print(f\"p-value:  {p_value: .3f}\")"
   ]
  },
  {
   "cell_type": "markdown",
   "id": "91e71482-9eea-4f87-89de-d81df977a09e",
   "metadata": {},
   "source": [
    "We can observe that the difference in means is very small (0.014) and the confidence interval for this difference contains 0, which mean we fail to reject the null hypothesis. This imply hat the average amount spent per user is the same in both groups. Aditionally, the p-value 0.952 is greather than our significance level 0.05, this supports the conclusion that there is no statistically significant difference in the average amount spent per user. Therefore, it we consider only this metric, the new feature did not have a significant impact on the amount spend per user."
   ]
  },
  {
   "cell_type": "markdown",
   "id": "9dc63b20-a57e-4693-974d-a66961a37b28",
   "metadata": {},
   "source": [
    "## Conclusion\n",
    "\n",
    "- Based on the results of the A/B test, we can conclude that the new feature had a significant impact on the conversion rate, with the treatment group 4.63% conversion rate outperforming the control group 3.92%. However, when considering the average amount spent per user, there was no significant difference between the two groups.\n",
    "\n",
    "- Given the targeted objective of a 2% change in conversion rate and revenue, it seems that the new feature has met this benchmark for conversion rate. However, the impact on revenue is unclear given the lack of difference in the average amount spent per user.\n"
   ]
  },
  {
   "cell_type": "markdown",
   "id": "de254785-831e-4028-a62f-ba4450638ed2",
   "metadata": {},
   "source": [
    "## Recommendation\n",
    "\n",
    "We recommend further analysis to understand the impact of the new feature on revenue, such as examining customer behavior and engagement with the new feature. Based on this additional analysis, stakeholders can make an informed decision about whether to launch the experience to all users."
   ]
  },
  {
   "cell_type": "code",
   "execution_count": null,
   "id": "47656f40-257d-4c62-911b-36c1d490cc4c",
   "metadata": {},
   "outputs": [],
   "source": []
  }
 ],
 "metadata": {
  "kernelspec": {
   "display_name": "Python 3 (ipykernel)",
   "language": "python",
   "name": "python3"
  },
  "language_info": {
   "codemirror_mode": {
    "name": "ipython",
    "version": 3
   },
   "file_extension": ".py",
   "mimetype": "text/x-python",
   "name": "python",
   "nbconvert_exporter": "python",
   "pygments_lexer": "ipython3",
   "version": "3.10.5"
  }
 },
 "nbformat": 4,
 "nbformat_minor": 5
}
